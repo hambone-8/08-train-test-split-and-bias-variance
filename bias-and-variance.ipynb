{
 "cells": [
  {
   "cell_type": "markdown",
   "metadata": {},
   "source": [
    "<img src=\"http://imgur.com/1ZcRyrc.png\" style=\"float: left; margin: 20px; height: 55px\">\n",
    "\n",
    "# Train/Test Split and Bias and Variance\n",
    "\n",
    "_Authors: Joseph Nelson (DC), Kevin Markham (DC); Updated: B Rhodes (DC)_\n",
    "\n",
    "---"
   ]
  },
  {
   "cell_type": "markdown",
   "metadata": {},
   "source": [
    "<a id=\"learning-objectives\"></a>\n",
    "<a id=\"learning-objectives\"></a>\n",
    "<a id=\"learning-objectives\"></a>\n",
    "### Learning Objectives\n",
    "- Define error due to bias and error due to variance.\n",
    "- Identify the bias-variance trade-off.\n",
    "- Describe what overfitting and underfitting means in the context of model building.\n",
    "- Explain problems associated with over- and underfitting.\n",
    "- Grasp why train/test split is necessary.\n",
    "- Explore k-folds, LOOCV, and three split methods."
   ]
  },
  {
   "cell_type": "markdown",
   "metadata": {},
   "source": [
    "### Lesson Guide\n",
    "- [Bias and Variance Trade-Off](#bias-and-variance-trade-off)\n",
    "\t- [Bias? Variance?](#bias-variance)\n",
    "\t- [Exploring the Bias-Variance Trade-Off](#exploring-the-bias-variance-tradeoff)\n",
    "\t- [Brain and Body Weight Mammal Data Set](#brain-and-body-weight-mammal-dataset)\n",
    "\t- [Making a Prediction](#making-a-prediction)\n",
    "- [Making a Prediction From a Sample](#making-a-prediction-from-a-sample)\n",
    "\t- [Let's Try Something Completely Different](#lets-try-something-completely-different)\n",
    "- [Balancing Bias and Variance](#balancing-bias-and-variance)\n",
    "- [Train/Test Split](#train-test-split)\n",
    "\t- [Evaluation Procedure #1: Train and Test on the Entire Data Set (Do Not Do This)](#evaluation-procedure--train-and-test-on-the-entire-dataset-do-not-do-this)\n",
    "\t- [Problems With Training and Testing on the Same Data](#problems-with-training-and-testing-on-the-same-data)\n",
    "\t- [Evaluation Procedure #2: Train/Test Split](#evaluation-procedure--traintest-split)\n",
    "\t- [Comparing Test Performance With a Null Baseline](#comparing-test-performance-with-a-null-baseline)\n",
    "- [K-Folds Cross-Validation](#k-folds-cross-validation)\n",
    "\t- [Leave-One-Out Cross-Validation](#leave-one-out-cross-validation)\n",
    "\t- [Intro to Cross-Validation With the Boston Data](#intro-to-cross-validation-with-the-boston-data)\n",
    "- [Three-Way Data Split](#three-way-data-split)\n",
    "\t- [Additional Resources](#additional-resources)\n",
    "- [Summary](#summary)"
   ]
  },
  {
   "cell_type": "markdown",
   "metadata": {},
   "source": [
    "<a id=\"bias-and-variance-trade-off\"></a>\n",
    "## Bias and Variance Trade-Off\n",
    "---\n",
    "\n",
    "The **bias-variance tradeoff** is widely used in machine learning as a conceptual way of comparing and contrasting different models. We only have a few methods that are able to compare all machine learning models. The others are more mathematical.\n",
    "\n",
    "**Bias** is error stemming from incorrect model assumptions. The model is off target consistently, this is an example of underfitting.\n",
    "- Example: Assuming data is linear when it has a more complicated structure.\n",
    "\n",
    "**Variance** is error stemming from being sensitive to changes in the training data.  For high variance, the model learns too much from the training data; this is known as overfitting.\n",
    "- Example: Different models are produced, even if the training set differs only slightly.\n",
    "\n",
    "\n",
    "As model complexity **increases**:\n",
    "- Bias **decreases**. (The model can more accurately model complex structure in data.)\n",
    "- Variance **increases**. (The model identifies more complex structures, making it more sensitive to small changes in the training data.)"
   ]
  },
  {
   "cell_type": "markdown",
   "metadata": {},
   "source": [
    "<a id=\"bias-variance\"></a>\n",
    "### Bias? Variance?"
   ]
  },
  {
   "cell_type": "markdown",
   "metadata": {
    "collapsed": true
   },
   "source": [
    "**Conceptual Definitions**\n",
    "- **Bias**: How close are predictions to the actual values?\n",
    "  - Roughly, whether or not our model aims on target.\n",
    "  - If the model cannot represent the data's structure, our predictions could be consistent, but will not be accurate.\n",
    "- **Variance**: How variable are our predictions?\n",
    "  - Is an rough indicator of whether or not our model is reliable.\n",
    "  - We will make slightly different predictions given slightly different training sets."
   ]
  },
  {
   "cell_type": "markdown",
   "metadata": {},
   "source": [
    "![](./assets/biasVsVarianceImage.png)"
   ]
  },
  {
   "cell_type": "markdown",
   "metadata": {
    "collapsed": true
   },
   "source": [
    "- Visually, we are building a model where the bulls-eye is the goal.\n",
    "- Each individual hit is one prediction based on our model.\n",
    "- Critically, the success of our model (low variance, low bias) depends on the training data present."
   ]
  },
  {
   "cell_type": "markdown",
   "metadata": {},
   "source": [
    "**Examples:**\n",
    "\n",
    "- **Linear regression:** Low variance, High bias.\n",
    "    - If we train with a different subset of the training set, the model will be about the same. Hence, the model has low variance.\n",
    "    - The resulting model will predict the training points incorrectly (unless they happen to be perfectly linear). Hence, it has high bias.\n",
    "   \n",
    "\n",
    "- **Nearest neighbor:** High variance, Low bias.\n",
    "    - If we train with a different subset of the training set, the model will make predictions very differently. Hence, the model is highly variable.\n",
    "    - The resulting model will predict every training point perfectly. Hence, it has low bias.\n",
    "\n",
    "- **K-Nearest neightbor:** Med-high variance, Med-low bias.\n",
    "    - The model itself is more robust to outliers, so it will make more predictions the same than before. Hence, it has lower variance than 1-NN.\n",
    "    - The resulting model no longer predicts every point perfectly, since outliers will be mispredicted. So, the bias will be higher than before.\n",
    "\n",
    "\n",
    "See if you can figure out:\n",
    "\n",
    "- **High-order polynomial (as compared to linear regression)**"
   ]
  },
  {
   "cell_type": "markdown",
   "metadata": {},
   "source": [
    "**Expressing bias and variance mathematically:**\n",
    "\n",
    "It can be helpful understanding these terms by looking at how we can decompose the total error into them mathematically. (We will skip the derivations for now!)\n",
    "\n",
    "Let's define the error of our predictor as the expected value of our squared error. Note this error is not based on any particular fitted model, but on the family of potential models given a dataset (i.e. all fitted models made from all possible subsets of data).\n",
    "\n",
    "$$E[(y - \\hat{f}(x))^2] = \\text{Bias}[\\hat{f}(x)]^2 + \\text{Var}[\\hat{f}(x)] + \\epsilon^2$$\n",
    "\n",
    "This states the expected error is based on only three components: **bias**, **variance**, and **irreducible error**.\n",
    "\n",
    "Breaking the bias and variance down further:\n",
    "\n",
    "\n",
    "- The bias is just the average expected distance between our predictor and actual values.\n",
    "$$\\text{Bias}[\\hat{f}(x)] = E[\\hat{f}(x) - f(x)].$$\n",
    "\n",
    "\n",
    "- The variance is how much our predictions vary about the mean. ($E[\\hat{f}(x)]$ is our predictor's mean prediction.)\n",
    "\n",
    "$$\\text{Var}[\\hat{f}(x)] = E[\\hat{f}(x)^2] - E[\\hat{f}(x)]^2.$$\n",
    "\n",
    "- The irreducible error stems from noise in the problem itself.\n",
    "\n",
    "### MSE equation in plain english\n",
    "\n",
    "\n",
    "$$ \\text{MSE} = \\text{variance} + \\text{bias}^2 + \\text{irreducible error} $$\n",
    "\n",
    "\n",
    "\n",
    "**Some common questions:**\n",
    "\n",
    "From the math above, we can answer a few common questions:\n",
    "\n",
    "Can a model have high bias given one dataset and low bias for another?\n",
    "- Yes. If our data is linearly related, for example, it will have low bias on a linear model! However, in general across all datasets very few are accurately described with a linear model. So, in general we say a linear model has high bias and low variance.\n",
    "\n",
    "Is the MSE for a fitted linear regression the same thing as the bias?\n",
    "- It's close, but bias does not apply to a specific fitted model. Bias is the expected error of a model no matter what subset of the data it is fit on. This way, if we happen to get a lucky MSE fitting a model on a particular subset of our data, this does not mean we will have a low bias overall."
   ]
  },
  {
   "cell_type": "markdown",
   "metadata": {},
   "source": [
    "<a id=\"exploring-the-bias-variance-tradeoff\"></a>\n",
    "### Exploring the Bias-Variance Trade-Off"
   ]
  },
  {
   "cell_type": "code",
   "execution_count": null,
   "metadata": {
    "ExecuteTime": {
     "end_time": "2021-12-29T03:40:16.175382Z",
     "start_time": "2021-12-29T03:40:13.256552Z"
    }
   },
   "outputs": [],
   "source": [
    "import pandas as pd\n",
    "import numpy as np\n",
    "import seaborn as sns\n",
    "import matplotlib.pyplot as plt\n",
    "\n",
    "# Specific Imports\n",
    "from sklearn.datasets import load_boston\n",
    "from sklearn.linear_model import LinearRegression\n",
    "#from sklearn import metrics\n",
    "from sklearn.metrics import mean_squared_error\n",
    "from sklearn.model_selection import train_test_split, KFold, cross_val_score\n",
    "\n",
    "# model saving imports\n",
    "import pickle\n",
    "from joblib import dump, load\n",
    "\n",
    "# Allow plots to appear in the notebook.\n",
    "%matplotlib inline"
   ]
  },
  {
   "cell_type": "markdown",
   "metadata": {},
   "source": [
    "<a id=\"brain-and-body-weight-mammal-dataset\"></a>\n",
    "### Brain and Body Weight Mammal Data Set"
   ]
  },
  {
   "cell_type": "markdown",
   "metadata": {
    "collapsed": true
   },
   "source": [
    "This is a [data set](http://people.sc.fsu.edu/~jburkardt/datasets/regression/x01.txt) of the average weight of the body (in kg) and the brain (in g) for 62 mammal species. We'll use this dataset to investigate bias vs. variance. Let's read it into Pandas and take a quick look:"
   ]
  },
  {
   "cell_type": "code",
   "execution_count": null,
   "metadata": {
    "ExecuteTime": {
     "end_time": "2021-12-29T03:40:18.918991Z",
     "start_time": "2021-12-29T03:40:18.902920Z"
    }
   },
   "outputs": [],
   "source": [
    "path = 'data/mammals.txt'\n",
    "cols = ['brain','body']\n",
    "mammals_df = pd.read_table(path, sep='\\t', names=cols, header=0)\n",
    "mammals_df.head()"
   ]
  },
  {
   "cell_type": "code",
   "execution_count": null,
   "metadata": {
    "ExecuteTime": {
     "end_time": "2021-12-29T03:40:20.160109Z",
     "start_time": "2021-12-29T03:40:20.146740Z"
    }
   },
   "outputs": [],
   "source": [
    "mammals_df.describe()"
   ]
  },
  {
   "cell_type": "code",
   "execution_count": null,
   "metadata": {
    "ExecuteTime": {
     "end_time": "2021-12-29T03:40:21.436773Z",
     "start_time": "2021-12-29T03:40:21.426520Z"
    }
   },
   "outputs": [],
   "source": [
    "is_200 = mammals_df['body'] > 200\n",
    "mammals_df[is_200]"
   ]
  },
  {
   "cell_type": "markdown",
   "metadata": {},
   "source": [
    "We're going to focus on a smaller subset in which the body weight is less than 200 kg."
   ]
  },
  {
   "cell_type": "code",
   "execution_count": null,
   "metadata": {
    "ExecuteTime": {
     "end_time": "2021-12-29T03:40:27.086537Z",
     "start_time": "2021-12-29T03:40:27.079952Z"
    }
   },
   "outputs": [],
   "source": [
    "# Only keep rows in which the body weight is less than 200 kg.\n",
    "\n",
    "is_less_200 = mammals_df.body < 200\n",
    "mammals_df = mammals_df[is_less_200]\n",
    "mammals_df.shape"
   ]
  },
  {
   "cell_type": "markdown",
   "metadata": {
    "collapsed": true
   },
   "source": [
    "We're now going to pretend that there are only 51 mammal species in existence. In other words, we are pretending that this is the entire data set of brain and body weights for **every known mammal species**.\n",
    "\n",
    "Let's create a scatterplot (using [Seaborn](http://stanford.edu/~mwaskom/software/seaborn/)) to visualize the relationship between brain and body weight:"
   ]
  },
  {
   "cell_type": "code",
   "execution_count": null,
   "metadata": {
    "ExecuteTime": {
     "end_time": "2021-12-29T03:40:28.810082Z",
     "start_time": "2021-12-29T03:40:28.589716Z"
    }
   },
   "outputs": [],
   "source": [
    "sns.lmplot(x='body', y='brain', data=mammals_df, ci=None, fit_reg=False);\n",
    "plt.xlim(-10, 200);\n",
    "plt.ylim(-10, 250);"
   ]
  },
  {
   "cell_type": "markdown",
   "metadata": {
    "collapsed": true
   },
   "source": [
    "There appears to be a relationship between brain and body weight for mammals."
   ]
  },
  {
   "cell_type": "markdown",
   "metadata": {},
   "source": [
    "<a id=\"making-a-prediction\"></a>\n",
    "### Making a Prediction"
   ]
  },
  {
   "cell_type": "markdown",
   "metadata": {},
   "source": [
    "<a id=\"linear-regression-quick-review\"></a>\n",
    "#### Linear Regression: A Quick Review\n",
    "\n",
    "![](./assets/linear-residuals.png)"
   ]
  },
  {
   "cell_type": "markdown",
   "metadata": {
    "collapsed": true
   },
   "source": [
    "Now let's pretend that a **new mammal species** is discovered. We measure the body weight of every member of this species we can find and calculate an **average body weight of 100 kgs**. We want to **predict the average brain weight** of this species (rather than measuring it directly). How might we do this?"
   ]
  },
  {
   "cell_type": "code",
   "execution_count": null,
   "metadata": {
    "ExecuteTime": {
     "end_time": "2021-12-29T03:40:33.230723Z",
     "start_time": "2021-12-29T03:40:33.028354Z"
    }
   },
   "outputs": [],
   "source": [
    "sns.lmplot(x='body', y='brain', data=mammals_df, ci=None);\n",
    "plt.xlim(-10, 200);\n",
    "plt.ylim(-10, 250);"
   ]
  },
  {
   "cell_type": "markdown",
   "metadata": {
    "collapsed": true
   },
   "source": [
    "We drew a straight line that appears to best capture the relationship between brain and body weight. So, we might predict that our new species has a brain weight of about 45 g, as that's the approximate y value when x=100.\n",
    "\n",
    "This is known as a \"linear model\" or a \"linear regression model.\""
   ]
  },
  {
   "cell_type": "markdown",
   "metadata": {
    "collapsed": true
   },
   "source": [
    "<a id=\"making-a-prediction-from-a-sample\"></a>\n",
    "## Making a Prediction From a Sample"
   ]
  },
  {
   "cell_type": "markdown",
   "metadata": {
    "collapsed": true
   },
   "source": [
    "Earlier, we assumed that this dataset contained every known mammal species. That's very convenient, but **in the real world, all you ever have is a sample of data**. This may sound like a contentious statement, but the point of machine learning is to generalize from a sample to the population. If you already have data for the entire population, then you have no need for machine learning -- you can apply statistics directly and get optimal answers!\n",
    "\n",
    "Here, a more realistic situation would be to only have brain and body weights for (let's say) half of the 51 known mammals.\n",
    "\n",
    "When that new mammal species (with a body weight of 100 kg) is discovered, we still want to make an accurate prediction for its brain weight, but this task might be more difficult, as we don't have all of the data we would ideally like to have.\n",
    "\n",
    "Let's simulate this situation by assigning each of the 51 observations to **either universe 1 or universe 2**:"
   ]
  },
  {
   "cell_type": "code",
   "execution_count": null,
   "metadata": {
    "ExecuteTime": {
     "end_time": "2021-12-29T03:40:47.219171Z",
     "start_time": "2021-12-29T03:40:47.204572Z"
    }
   },
   "outputs": [],
   "source": [
    "# Set a random seed for reproducibility.\n",
    "np.random.seed(12345)\n",
    "\n",
    "# Randomly assign every observation to either universe 1 or universe 2.\n",
    "mammals_df['universe'] = np.random.randint(1, 3, len(mammals_df))\n",
    "mammals_df.head()"
   ]
  },
  {
   "cell_type": "markdown",
   "metadata": {
    "collapsed": true
   },
   "source": [
    "**Important:** We only live in one of the two universes. Both universes have 51 known mammal species, but each universe knows the brain and body weight for different species.\n",
    "\n",
    "We can now tell Seaborn to create two plots in which the left plot only uses the data from **universe 1** and the right plot only uses the data from **universe 2**:"
   ]
  },
  {
   "cell_type": "code",
   "execution_count": null,
   "metadata": {
    "ExecuteTime": {
     "end_time": "2021-12-29T03:40:57.528375Z",
     "start_time": "2021-12-29T03:40:57.158113Z"
    }
   },
   "outputs": [],
   "source": [
    "# col='universe' subsets the data by universe and creates two separate plots.\n",
    "sns.lmplot(x='body', y='brain', data=mammals_df, ci=None, col='universe');\n",
    "plt.xlim(-10, 200);\n",
    "plt.ylim(-10, 250);"
   ]
  },
  {
   "cell_type": "markdown",
   "metadata": {
    "collapsed": true
   },
   "source": [
    "The line looks pretty similar between the two plots, despite the fact that they used separate samples of data. In both cases, we would predict a brain weight of about 45 g.\n",
    "\n",
    "It's easier to see the degree of similarity by placing them on the same plot:"
   ]
  },
  {
   "cell_type": "code",
   "execution_count": null,
   "metadata": {
    "ExecuteTime": {
     "end_time": "2021-12-29T03:41:02.872860Z",
     "start_time": "2021-12-29T03:41:02.567975Z"
    }
   },
   "outputs": [],
   "source": [
    "# hue='universe' subsets the data by universe and creates a single plot.\n",
    "sns.lmplot(x='body', y='brain', data=mammals_df, ci=None, hue='universe');\n",
    "plt.xlim(-10, 200);\n",
    "plt.ylim(-10, 250);"
   ]
  },
  {
   "cell_type": "markdown",
   "metadata": {
    "collapsed": true
   },
   "source": [
    "So, what was the point of this exercise? This was a visual demonstration of a high-bias, low-variance model.\n",
    "\n",
    "- It's **high bias** because it doesn't fit the data particularly well.\n",
    "- It's **low variance** because it doesn't change much depending on which observations happen to be available in that universe."
   ]
  },
  {
   "cell_type": "markdown",
   "metadata": {
    "collapsed": true
   },
   "source": [
    "<a id=\"lets-try-something-completely-different\"></a>\n",
    "### Let's Try Something Completely Different"
   ]
  },
  {
   "cell_type": "markdown",
   "metadata": {
    "collapsed": true
   },
   "source": [
    "What would a **low bias, high variance** model look like? Let's try polynomial regression with an eighth-order polynomial.\n",
    "\n",
    "**Question**: is an 8th order model more or less complex than a linear model?"
   ]
  },
  {
   "cell_type": "code",
   "execution_count": null,
   "metadata": {
    "ExecuteTime": {
     "end_time": "2021-12-29T03:41:35.844010Z",
     "start_time": "2021-12-29T03:41:35.460067Z"
    }
   },
   "outputs": [],
   "source": [
    "sns.lmplot(x='body', y='brain', data=mammals_df, ci=None, col='universe', order=8);\n",
    "plt.xlim(-10, 200);\n",
    "plt.ylim(-10, 350);"
   ]
  },
  {
   "cell_type": "markdown",
   "metadata": {
    "collapsed": true
   },
   "source": [
    "- It's **low bias** because the models match the data effectively.\n",
    "- It's **high variance** because the models are widely different, depending on which observations happen to be available in that universe. (For a body weight of 100 kg, the brain weight prediction would be 40 kg in one universe and 0 kg in the other!)"
   ]
  },
  {
   "cell_type": "code",
   "execution_count": null,
   "metadata": {
    "ExecuteTime": {
     "end_time": "2021-12-29T03:41:54.865739Z",
     "start_time": "2021-12-29T03:41:54.571366Z"
    },
    "scrolled": false
   },
   "outputs": [],
   "source": [
    "sns.lmplot(x='body', y='brain', data=mammals_df, ci=None, hue='universe', order=8);\n",
    "plt.xlim(-10, 200);\n",
    "plt.ylim(-10, 350);"
   ]
  },
  {
   "cell_type": "markdown",
   "metadata": {
    "collapsed": true
   },
   "source": [
    "<a id=\"balancing-bias-and-variance\"></a>\n",
    "## Balancing Bias and Variance\n",
    "Can we find a middle ground?"
   ]
  },
  {
   "cell_type": "markdown",
   "metadata": {
    "collapsed": true
   },
   "source": [
    "Perhaps we can create a model that has **less bias than the linear model** and **less variance than the eighth order polynomial**?\n",
    "\n",
    "Let's try a second order polynomial instead:"
   ]
  },
  {
   "cell_type": "code",
   "execution_count": null,
   "metadata": {
    "ExecuteTime": {
     "end_time": "2021-12-29T03:42:02.929647Z",
     "start_time": "2021-12-29T03:42:02.546270Z"
    },
    "scrolled": true
   },
   "outputs": [],
   "source": [
    "sns.lmplot(x='body', y='brain', data=mammals_df, ci=None, col='universe', order=2);\n",
    "plt.xlim(-10, 200);\n",
    "\n"
   ]
  },
  {
   "cell_type": "code",
   "execution_count": null,
   "metadata": {
    "ExecuteTime": {
     "end_time": "2021-12-29T03:42:04.144148Z",
     "start_time": "2021-12-29T03:42:03.843537Z"
    }
   },
   "outputs": [],
   "source": [
    "sns.lmplot(x='body', y='brain', data=mammals_df, ci=None, hue='universe', order=2);\n",
    "plt.xlim(-10, 200);\n",
    "plt.ylim(-10, 250);"
   ]
  },
  {
   "cell_type": "markdown",
   "metadata": {
    "collapsed": true
   },
   "source": [
    "This seems better. In both the left and right plots, **it fits the data well, but not too well**.\n",
    "\n",
    "This is the essence of the **bias-variance trade-off**: You are seeking a model that appropriately balances bias and variance and thus will generalize to new data (known as \"out-of-sample\" data)."
   ]
  },
  {
   "cell_type": "markdown",
   "metadata": {
    "collapsed": true
   },
   "source": [
    "We want a model that best balances bias and variance. It\n",
    "should match our training data well (moderate bias) yet be low variance for out-of-sample data (moderate variance)."
   ]
  },
  {
   "cell_type": "markdown",
   "metadata": {
    "collapsed": true
   },
   "source": [
    "- Training error as a function of complexity.\n",
    "- **Question:** Why do we even care about variance if we know we can generate a more accurate model with higher complexity?"
   ]
  },
  {
   "cell_type": "markdown",
   "metadata": {},
   "source": [
    "### Can we obtain a zero-bias, zero-variance model?\n",
    "\n",
    "No! If there is any noise in the data-generating process, then a zero-variance model would not be learning from the data. Additionally, a model only has zero bias if the true relationship between the target and the features is hard-coded into it. If that were the case, you wouldn't be doing machine learning -- it would be similar to trying to predict today's temperature by using today's temperature!"
   ]
  },
  {
   "cell_type": "markdown",
   "metadata": {},
   "source": [
    "---\n",
    "\n",
    "<a id=\"train-test-split\"></a>\n",
    "## Train-test-split"
   ]
  },
  {
   "cell_type": "markdown",
   "metadata": {},
   "source": [
    "For the rest of the lab, we will look at three evaluation procedures for predicting model out-of-sample accuracy:\n",
    "\n",
    "1. **Train on the entire dataset** should never be done to estimate model accuracy on out-of-sample data! After all, training error can be made arbitrarily small or large. You might train on the entire dataset as the very last step when a model is chosen, hoping to make the final model as accurate as possible. Or, you could use this to estimate the degree of overfitting.\n",
    "2. **Train-test-split** is useful if cross-validation is not practical (e.g. it takes too long to train). It is also useful for computing a quick confusion matrix. You could also use this as a final step after the model is finalized (often called evaluating the model against a **validation set**).\n",
    "3. **Cross-validation** is the gold standard for estimating accuracy and comparing accuracy across models.\n",
    "4. **Three-way split** combines cross-validation and the train-test-split. It takes an initial split to be used as a final validation set, then uses cross-validation on the rest."
   ]
  },
  {
   "cell_type": "markdown",
   "metadata": {},
   "source": [
    "We run into a problem when powerful models can perfectly fit the data on which they are trained. These models are **low bias** and **high variance**. However, **we can't observe the variance of a model directly**, because we only know how it fits the data we have rather than all potential samples.\n",
    "\n",
    "**Solution:** Create a procedure that **estimates** how well a model is likely to perform on out-of-sample data and use that to choose between models.\n",
    "\n",
    "- Before, we have been splitting the data into a **single training group** and a **single test group**.\n",
    "\n",
    "- Now, to estimate how well the model is likely to perform on out-of-sample data, we will create **many training groups** and **many test groups** then fit **many models**.\n",
    "\n",
    "**Note:** These procedures can be used with **any machine learning model**.\n"
   ]
  },
  {
   "cell_type": "markdown",
   "metadata": {
    "collapsed": true
   },
   "source": [
    "**The Holdout Method: Train/Test Split**\n",
    "- **Training set**: Used to train the classifier.\n",
    "- **Testing set**: Used to estimate the error rate of the trained classifier.\n",
    "- **Advantages**: Fast, simple, computationally inexpensive.\n",
    "- **Disadvantages** Eliminates data, imperfectly splits."
   ]
  },
  {
   "cell_type": "markdown",
   "metadata": {
    "collapsed": true
   },
   "source": [
    "<a id=\"evaluation-procedure--train-and-test-on-the-entire-dataset-do-not-do-this\"></a>\n",
    "### Evaluation Procedure #1: Train and Test on the Entire Data Set (Do Not Do This)"
   ]
  },
  {
   "cell_type": "markdown",
   "metadata": {
    "collapsed": true
   },
   "source": [
    "1. Train the model on the **entire data set**.\n",
    "2. Test the model on the **same data set** and evaluate how well we did by comparing the **predicted** response values with the **true** response values."
   ]
  },
  {
   "cell_type": "markdown",
   "metadata": {},
   "source": [
    "**Question**: While the warning says do not do this. When might we want to train using the entire dataset?"
   ]
  },
  {
   "cell_type": "markdown",
   "metadata": {},
   "source": [
    "#### Load in the Boston data.\n",
    "\n",
    "*Note*: `sklearn` provides a number of \"toy\" datasets, the Boston housing data is just one example. You can see more here: `sklearn` [toy data sets](https://scikit-learn.org/stable/datasets/index.html#toy-datasets). These are useful to practice with since there are many tutorials and examples on the internet to compare your results against or to use for guidance."
   ]
  },
  {
   "cell_type": "code",
   "execution_count": null,
   "metadata": {
    "ExecuteTime": {
     "end_time": "2021-12-29T03:42:36.432842Z",
     "start_time": "2021-12-29T03:42:36.413643Z"
    }
   },
   "outputs": [],
   "source": [
    "# Load the Boston housing data from sklearn \"toy\" datasets.\n",
    "\n",
    "boston = load_boston()\n"
   ]
  },
  {
   "cell_type": "code",
   "execution_count": null,
   "metadata": {
    "ExecuteTime": {
     "end_time": "2021-12-29T03:42:37.201702Z",
     "start_time": "2021-12-29T03:42:37.197948Z"
    }
   },
   "outputs": [],
   "source": [
    "print(boston.DESCR)"
   ]
  },
  {
   "cell_type": "markdown",
   "metadata": {},
   "source": [
    "#### Create X and y variable to stores the feature matrix and response from the Boston data."
   ]
  },
  {
   "cell_type": "code",
   "execution_count": null,
   "metadata": {
    "ExecuteTime": {
     "end_time": "2021-12-29T03:43:00.705295Z",
     "start_time": "2021-12-29T03:43:00.701279Z"
    }
   },
   "outputs": [],
   "source": [
    "# Create a DataFrame for both parts of data; don't forget to assign column names.\n",
    "boston_data_df = pd.DataFrame(boston.data, columns=boston.feature_names)\n",
    "target_ser = pd.DataFrame(boston.target, columns=['MEDV'])"
   ]
  },
  {
   "cell_type": "markdown",
   "metadata": {},
   "source": [
    "#### Concatenate y and X, then overwrite the Boston variable."
   ]
  },
  {
   "cell_type": "code",
   "execution_count": null,
   "metadata": {
    "ExecuteTime": {
     "end_time": "2021-12-29T03:43:02.375430Z",
     "start_time": "2021-12-29T03:43:02.370324Z"
    }
   },
   "outputs": [],
   "source": [
    "# Concatenate \n",
    "boston_df = pd.concat([boston_data_df, target_ser], axis=1)"
   ]
  },
  {
   "cell_type": "code",
   "execution_count": null,
   "metadata": {
    "ExecuteTime": {
     "end_time": "2021-12-29T03:43:03.339380Z",
     "start_time": "2021-12-29T03:43:03.314633Z"
    }
   },
   "outputs": [],
   "source": [
    "boston_df.head()"
   ]
  },
  {
   "cell_type": "markdown",
   "metadata": {},
   "source": [
    "#### Perform basic EDA to make sure the data are in order."
   ]
  },
  {
   "cell_type": "code",
   "execution_count": null,
   "metadata": {
    "ExecuteTime": {
     "end_time": "2021-12-29T03:43:12.949756Z",
     "start_time": "2021-12-29T03:43:12.938510Z"
    }
   },
   "outputs": [],
   "source": [
    "boston_df.isna().sum()"
   ]
  },
  {
   "cell_type": "code",
   "execution_count": null,
   "metadata": {
    "ExecuteTime": {
     "end_time": "2021-12-29T03:43:13.807026Z",
     "start_time": "2021-12-29T03:43:13.722732Z"
    }
   },
   "outputs": [],
   "source": [
    "boston_df.info()"
   ]
  },
  {
   "cell_type": "code",
   "execution_count": null,
   "metadata": {
    "ExecuteTime": {
     "end_time": "2021-12-29T03:43:14.425059Z",
     "start_time": "2021-12-29T03:43:14.371988Z"
    }
   },
   "outputs": [],
   "source": [
    "boston_df.describe()"
   ]
  },
  {
   "cell_type": "markdown",
   "metadata": {},
   "source": [
    "#### Prepare a feature matrix (X) and response (y)  for scikit-learn."
   ]
  },
  {
   "cell_type": "code",
   "execution_count": null,
   "metadata": {
    "ExecuteTime": {
     "end_time": "2021-12-29T03:43:15.866633Z",
     "start_time": "2021-12-29T03:43:15.859429Z"
    }
   },
   "outputs": [],
   "source": [
    "# create feature matrix (X)\n",
    "feature_cols = boston_df.columns.drop(['MEDV'])\n",
    "X = boston_df[feature_cols]\n",
    "\n",
    "# create response vector (y)\n",
    "y = boston_df['MEDV']"
   ]
  },
  {
   "cell_type": "markdown",
   "metadata": {},
   "source": [
    "#### Import linear regression, instantiate, fit, and preview predictions."
   ]
  },
  {
   "cell_type": "code",
   "execution_count": null,
   "metadata": {
    "ExecuteTime": {
     "end_time": "2021-12-29T03:43:17.643260Z",
     "start_time": "2021-12-29T03:43:17.611887Z"
    }
   },
   "outputs": [],
   "source": [
    "# Instantiate the model.\n",
    "lr = LinearRegression()\n",
    "\n",
    "# Train the model on the entire data set.\n",
    "lr.fit(X, y)\n",
    "\n",
    "# Predict the response values for the observations in X (\"test the model\").\n",
    "# only show first 10 predictions\n",
    "lr.predict(X)[:10]"
   ]
  },
  {
   "cell_type": "markdown",
   "metadata": {},
   "source": [
    "#### Store the predicted response values."
   ]
  },
  {
   "cell_type": "code",
   "execution_count": null,
   "metadata": {
    "ExecuteTime": {
     "end_time": "2021-12-29T03:43:19.399245Z",
     "start_time": "2021-12-29T03:43:19.392785Z"
    }
   },
   "outputs": [],
   "source": [
    "y_pred = lr.predict(X)"
   ]
  },
  {
   "cell_type": "markdown",
   "metadata": {
    "collapsed": true
   },
   "source": [
    "To evaluate a model, we also need an **evaluation metric:**\n",
    "\n",
    "- A numeric calculation used to **quantify** the performance of a model.\n",
    "- The appropriate metric depends on the **goals** of your problem.\n",
    "\n",
    "The most common choices for regression problems are:\n",
    "\n",
    "- **R-squared**: The percentage of variation explained by the model (a \"reward function,\" as higher is better).\n",
    "- **Mean squared error**: The average squared distance between the prediction and the correct answer (a \"loss function,\" as lower is better).\n",
    "\n",
    "In this case, we'll use mean squared error because it is more interpretable in a predictive context."
   ]
  },
  {
   "cell_type": "markdown",
   "metadata": {},
   "source": [
    "#### Compute mean squared error using a function from `metrics`."
   ]
  },
  {
   "cell_type": "code",
   "execution_count": null,
   "metadata": {
    "ExecuteTime": {
     "end_time": "2021-12-29T03:43:22.181206Z",
     "start_time": "2021-12-29T03:43:22.154425Z"
    }
   },
   "outputs": [],
   "source": [
    "#mse = metrics.mean_squared_error(y, y_pred)\n",
    "mse = mean_squared_error(y, y_pred)\n",
    "\n",
    "\n",
    "print(f'MSE = {mse}')"
   ]
  },
  {
   "cell_type": "markdown",
   "metadata": {
    "collapsed": true
   },
   "source": [
    "What units are this in?\n",
    "\n",
    "This is known as the **training mean squared error** because we are evaluating the model based on the same data we used to train the model.\n",
    "\n",
    "We can also calculate the **RMSE** or root mean squared error."
   ]
  },
  {
   "cell_type": "code",
   "execution_count": null,
   "metadata": {
    "ExecuteTime": {
     "end_time": "2021-12-29T03:43:23.916228Z",
     "start_time": "2021-12-29T03:43:23.909010Z"
    }
   },
   "outputs": [],
   "source": [
    "print(f'RMSE = {np.sqrt(mse)}')"
   ]
  },
  {
   "cell_type": "markdown",
   "metadata": {},
   "source": [
    "**Question**: What are the units for RMSE in this problem?"
   ]
  },
  {
   "cell_type": "markdown",
   "metadata": {},
   "source": [
    "<a id=\"problems-with-training-and-testing-on-the-same-data\"></a>\n",
    "### Problems With Training and Testing on the Same Data\n",
    "\n",
    "- Our goal is to estimate likely performance of a model on **out-of-sample data**. That is, we want the model to generalize well to previously unseen data.\n",
    "- But, maximizing the training mean squared error rewards **overly complex models** that won't necessarily generalize.\n",
    "- Unnecessarily complex models **overfit** the training data.\n",
    "    - They will do well when tested using the in-sample data.\n",
    "    - They may do poorly with out-of-sample data.\n",
    "    - They learn the \"noise\" in the data rather than the \"signal.\"\n",
    "    - From Quora: [What is an intuitive explanation of overfitting?](http://www.quora.com/What-is-an-intuitive-explanation-of-overfitting/answer/Jessica-Su)\n",
    "\n",
    "**Thus, the training MSE is not a good estimate of the out-of-sample MSE.**"
   ]
  },
  {
   "cell_type": "markdown",
   "metadata": {},
   "source": [
    "<a id=\"evaluation-procedure--traintest-split\"></a>\n",
    "### Evaluation procedure #2: Train/Test Split"
   ]
  },
  {
   "cell_type": "markdown",
   "metadata": {
    "collapsed": true
   },
   "source": [
    "1. Split the data set into two pieces: a **training set** and a **testing set**.\n",
    "2. Train the model on the **training set**.\n",
    "3. Test the model on the **testing set** and evaluate how well we did.\n",
    "\n",
    "Often a good rule-of-thumb is 70% training & 30% test, but this can vary based on the size of your dataset. For example, with a small dataset you would need to use as much training data as possible (in return, your test accuracy will be more variable).\n",
    "\n",
    "*Note: sklearn's `train_test_split()` method defaults to a 75/25 split for training vs testing data.*\n",
    "\n",
    "What does this accomplish?\n",
    "\n",
    "- Models can be trained and tested on **different data** (We treat testing data like out-of-sample data).\n",
    "- Response values are known for the testing set and thus **predictions can be evaluated**.\n",
    "\n",
    "This is known as the **testing mean squared error** because we are evaluating the model on an independent \"test set\" that was not used during model training.\n",
    "\n",
    "**The testing MSE is a better estimate of out-of-sample performance than the training MSE.**"
   ]
  },
  {
   "cell_type": "markdown",
   "metadata": {
    "collapsed": true
   },
   "source": [
    "#### Understanding the `train_test_split` Function"
   ]
  },
  {
   "cell_type": "code",
   "execution_count": null,
   "metadata": {
    "ExecuteTime": {
     "end_time": "2021-12-29T03:47:07.138442Z",
     "start_time": "2021-12-29T03:47:07.119917Z"
    }
   },
   "outputs": [],
   "source": [
    "# split the data\n",
    "X_train, X_test, y_train, y_test = train_test_split(X,y)"
   ]
  },
  {
   "cell_type": "code",
   "execution_count": null,
   "metadata": {
    "ExecuteTime": {
     "end_time": "2021-12-29T03:47:09.189523Z",
     "start_time": "2021-12-29T03:47:09.182240Z"
    }
   },
   "outputs": [],
   "source": [
    "# Before splitting\n",
    "print(f'Features before and after splitting:')\n",
    "print(f'Before split: {X.shape}')\n",
    "\n",
    "# After splitting\n",
    "print(f'Train split: {X_train.shape}')\n",
    "print(f'Test split: {X_test.shape}')"
   ]
  },
  {
   "cell_type": "code",
   "execution_count": null,
   "metadata": {
    "ExecuteTime": {
     "end_time": "2021-12-29T03:47:14.711157Z",
     "start_time": "2021-12-29T03:47:14.677721Z"
    }
   },
   "outputs": [],
   "source": [
    "# spot check the size of our train and test data.\n",
    "print(f'Train proportion: {round(X_train.shape[0]/X.shape[0],2)}')\n",
    "print(f'Test proportion: {round(X_test.shape[0]/X.shape[0],2)}')"
   ]
  },
  {
   "cell_type": "code",
   "execution_count": null,
   "metadata": {
    "ExecuteTime": {
     "end_time": "2021-12-29T03:47:19.755082Z",
     "start_time": "2021-12-29T03:47:19.750353Z"
    }
   },
   "outputs": [],
   "source": [
    "# Recall that (1,) is a tuple. \n",
    "# The trailing comma distinguishes it as being a tuple, not an integer.\n",
    "\n",
    "# Before splitting\n",
    "print(f'Features before and after splitting:')\n",
    "print(f'Before split: {y.shape}')\n",
    "\n",
    "# After splitting\n",
    "print(f'Train split: {y_train.shape}')\n",
    "print(f'Test split: {y_test.shape}')\n",
    "print(f'Train + Split: {y_train.shape[0] + y_test.shape[0]}')"
   ]
  },
  {
   "cell_type": "code",
   "execution_count": null,
   "metadata": {
    "ExecuteTime": {
     "end_time": "2021-12-29T03:48:22.205406Z",
     "start_time": "2021-12-29T03:48:22.202004Z"
    }
   },
   "outputs": [],
   "source": [
    "# spot check the size of our train and test data.\n",
    "print(f'Train proportion: {round(y_train.shape[0]/y.shape[0],2)}')\n",
    "print(f'Test proportion: {round(y_test.shape[0]/y.shape[0],2)}')"
   ]
  },
  {
   "cell_type": "code",
   "execution_count": null,
   "metadata": {
    "ExecuteTime": {
     "end_time": "2021-12-29T03:53:42.952109Z",
     "start_time": "2021-12-29T03:53:42.933342Z"
    },
    "scrolled": true
   },
   "outputs": [],
   "source": [
    "# Display the first 5 rows of X_train\n",
    "X_train.head()"
   ]
  },
  {
   "cell_type": "code",
   "execution_count": null,
   "metadata": {
    "ExecuteTime": {
     "end_time": "2021-12-29T03:53:44.141960Z",
     "start_time": "2021-12-29T03:53:44.133823Z"
    }
   },
   "outputs": [],
   "source": [
    "# Display the first 5 rows of y_train\n",
    "# Note the indices are in the same order as the X_train data\n",
    "y_train.head()"
   ]
  },
  {
   "cell_type": "markdown",
   "metadata": {},
   "source": [
    "![train_test_split](./assets/train_test_split.png)"
   ]
  },
  {
   "cell_type": "markdown",
   "metadata": {
    "collapsed": true
   },
   "source": [
    "#### Understanding the `random_state` Parameter\n",
    "\n",
    "The `random_state` is a pseudo-random number that allows us to reproduce our results every time we run them. However, it makes it impossible to predict what are exact results will be if we chose a new `random_state`.\n",
    "\n",
    "`random_state` is very useful for testing that your model was made correctly since it provides you with the same split each time. However, make sure you remove it if you are testing for model variability!"
   ]
  },
  {
   "cell_type": "code",
   "execution_count": null,
   "metadata": {
    "ExecuteTime": {
     "end_time": "2021-12-29T03:54:14.122143Z",
     "start_time": "2021-12-29T03:54:14.108276Z"
    }
   },
   "outputs": [],
   "source": [
    "# WITHOUT a random_state parameter:\n",
    "#  (If you run this code several times, you get different results!)\n",
    "X_train, X_test, y_train, y_test = train_test_split(X, y)\n",
    "\n",
    "# Print the first element of each object.\n",
    "X_train.head(1)"
   ]
  },
  {
   "cell_type": "code",
   "execution_count": null,
   "metadata": {
    "ExecuteTime": {
     "end_time": "2021-12-29T03:54:20.264644Z",
     "start_time": "2021-12-29T03:54:20.251503Z"
    }
   },
   "outputs": [],
   "source": [
    "# WITH a random_state parameter:\n",
    "#  (Same split every time! Note you can change the random state to any integer.)\n",
    "\n",
    "# Fill in your own value for random_state, i.e. replace the ? with any integer you want.\n",
    "# Try to pick an integer different than the instructor\n",
    "X_train, X_test, y_train, y_test = train_test_split(X, y, random_state = 17)\n",
    "\n",
    "# Print the first element of each object.\n",
    "print(X_train.head(1))\n",
    "print(y_train.head(1))\n",
    "\n"
   ]
  },
  {
   "cell_type": "code",
   "execution_count": null,
   "metadata": {
    "ExecuteTime": {
     "end_time": "2021-12-29T03:55:57.019931Z",
     "start_time": "2021-12-29T03:55:57.011326Z"
    }
   },
   "outputs": [],
   "source": [
    "print(X_test.head(1))\n",
    "print(y_test.head(1))\n"
   ]
  },
  {
   "cell_type": "markdown",
   "metadata": {},
   "source": [
    "#### Step 1: Split X and y into training and testing sets (using `random_state` for reproducibility)."
   ]
  },
  {
   "cell_type": "code",
   "execution_count": null,
   "metadata": {
    "ExecuteTime": {
     "end_time": "2021-12-29T03:56:00.133212Z",
     "start_time": "2021-12-29T03:56:00.127040Z"
    }
   },
   "outputs": [],
   "source": [
    "X = boston_df[['AGE', 'RM']]\n",
    "y = boston_df['MEDV']\n",
    "\n",
    "X_train, X_test, y_train, y_test = train_test_split(X, y, random_state=99)"
   ]
  },
  {
   "cell_type": "code",
   "execution_count": null,
   "metadata": {
    "ExecuteTime": {
     "end_time": "2021-12-29T03:56:01.176334Z",
     "start_time": "2021-12-29T03:56:01.167194Z"
    }
   },
   "outputs": [],
   "source": [
    "X_train.tail()"
   ]
  },
  {
   "cell_type": "markdown",
   "metadata": {},
   "source": [
    "#### Step 2: Train the model on the training set."
   ]
  },
  {
   "cell_type": "code",
   "execution_count": null,
   "metadata": {
    "ExecuteTime": {
     "end_time": "2021-12-29T03:56:10.055268Z",
     "start_time": "2021-12-29T03:56:10.033279Z"
    }
   },
   "outputs": [],
   "source": [
    "# Instantiate\n",
    "lr = LinearRegression()\n",
    "\n",
    "# Fit\n",
    "lr.fit(X_train, y_train)"
   ]
  },
  {
   "cell_type": "markdown",
   "metadata": {},
   "source": [
    "#### Step 3: Test the model on the testing set and check the accuracy."
   ]
  },
  {
   "cell_type": "code",
   "execution_count": null,
   "metadata": {
    "ExecuteTime": {
     "end_time": "2021-12-29T03:56:15.187681Z",
     "start_time": "2021-12-29T03:56:15.178274Z"
    }
   },
   "outputs": [],
   "source": [
    "# Predict\n",
    "y_pred = lr.predict(X_test)\n",
    "\n",
    "# Training MSe\n",
    "mse_train = mean_squared_error(y_train, lr.predict(X_train))\n",
    "\n",
    "# Testing MSE\n",
    "mse_test = mean_squared_error(y_test, y_pred)\n",
    "\n",
    "print(f' Training MSE: {mse_train}')\n",
    "print(f' Testing MSE:  {mse_test}')\n",
    "\n",
    "# Training and TestingRMSE\n",
    "rmse_train = np.sqrt(mse_train)\n",
    "rmse_test = np.sqrt(mse_test)\n",
    "print()\n",
    "print(f' Training RMSE: {rmse_train}')\n",
    "print(f' Testing RMSE:  {rmse_test}')"
   ]
  },
  {
   "cell_type": "markdown",
   "metadata": {},
   "source": [
    "![Bias-variance tradeoff](./assets/bias_variance.png)"
   ]
  },
  {
   "cell_type": "markdown",
   "metadata": {},
   "source": [
    "#### Go back to Step 1 and try adding new variables and transformations."
   ]
  },
  {
   "cell_type": "markdown",
   "metadata": {},
   "source": [
    "- **Training error**: Decreases as model complexity increases (lower value of k).\n",
    "- **Testing error**: Is minimized at the optimum model complexity."
   ]
  },
  {
   "cell_type": "markdown",
   "metadata": {},
   "source": [
    "### Saving a Model\n",
    "Building and tweaking a model can take a lot of time and might occur over hours or days even. So you don't have to rebuild things from scratch each time you can actually save the current state of your model.\n",
    "\n",
    "`sklearn` offers ways to do this and you can seem some basic guidance at this link: [Model Persistance in sklearn](https://scikit-learn.org/stable/modules/model_persistence.html)\n",
    "\n",
    "**Note**. This can also be used to more extensively save a range of data. You may consider saving your training data and other snapshots of data that let you validate the model build."
   ]
  },
  {
   "cell_type": "code",
   "execution_count": null,
   "metadata": {
    "ExecuteTime": {
     "end_time": "2021-12-29T03:59:32.531142Z",
     "start_time": "2021-12-29T03:59:32.511779Z"
    }
   },
   "outputs": [],
   "source": [
    "#import pickle\n",
    "\n",
    "# Using pickle\n",
    "\n",
    "# Save the model\n",
    "pickle.dump(lr, open(\"lr_pickle.pkl\", 'wb'))\n",
    "\n",
    "# Restore the model\n",
    "lr_from_pickle = pickle.load(open('lr_pickle.pkl', 'rb'))\n",
    "\n",
    "# Use the loaded model to make predictions\n",
    "y_pred_from_pickle = lr_from_pickle.predict(X_test)\n",
    "\n",
    "# Compute Test RMSE for both models\n",
    "rmse_lr = np.sqrt(mean_squared_error(y_test, y_pred))\n",
    "rmse_lr_pickle = np.sqrt(mean_squared_error(y_test, y_pred_from_pickle))\n",
    "\n",
    "print(f'LR RMSE: {rmse_lr}')\n",
    "print(f'LR Pickle RMSE: {rmse_lr_pickle}')"
   ]
  },
  {
   "cell_type": "code",
   "execution_count": null,
   "metadata": {
    "ExecuteTime": {
     "end_time": "2021-12-29T03:59:33.721473Z",
     "start_time": "2021-12-29T03:59:33.704556Z"
    }
   },
   "outputs": [],
   "source": [
    "# Try joblib, which is more efficient at handling large numpy arrays of data.\n",
    "#from joblib import dump, load\n",
    "\n",
    "# Save the model as a pickle file\n",
    "dump(lr, 'filename.pkl')\n",
    "\n",
    "# Load fthe model from the file\n",
    "lr_from_joblib = load('filename.pkl')\n",
    "\n",
    "# Use the model to make predictions\n",
    "y_pred_from_joblib = lr_from_joblib.predict(X_test)\n",
    "\n",
    "# Testing RMSE\n",
    "# Compute Test RMSE for both models\n",
    "rmse_lr = np.sqrt(mean_squared_error(y_test, y_pred))\n",
    "rmse_lr_joblib = np.sqrt(mean_squared_error(y_test, y_pred_from_joblib))\n",
    "\n",
    "print(f'LR RMSE: {rmse_lr}')\n",
    "print(f'LR Pickle RMSE: {rmse_lr_joblib}')"
   ]
  },
  {
   "cell_type": "markdown",
   "metadata": {},
   "source": [
    "**WARNING: Don't just download and load random pickle files. They aren't secure**"
   ]
  },
  {
   "cell_type": "markdown",
   "metadata": {},
   "source": [
    "<a id=\"comparing-test-performance-with-a-null-baseline\"></a>\n",
    "### Comparing Test Performance With a Null Baseline"
   ]
  },
  {
   "cell_type": "markdown",
   "metadata": {
    "collapsed": true
   },
   "source": [
    "When interpreting the predictive power of a model, it's best to compare it to a baseline using a dummy model, sometimes called a ZeroR model or a baseline model. A dummy model is simply using the mean, median, or most common value as the prediction. This forms a benchmark to compare your model against and becomes especially important in classification where your null accuracy might be 95 percent.\n",
    "\n",
    "For example, suppose your dataset is **imbalanced** -- it contains 99% one class and 1% the other class. Then, your baseline accuracy (always guessing the first class) would be 99%. So, if your model is less than 99% accurate, you know it is worse than the baseline. Imbalanced datasets generally must be trained differently (with less of a focus on accuracy) because of this.\n",
    "\n",
    "You can alternatively use simple models to achieve baseline results, for example nearest neighbors or a basic unigram bag of words for text data."
   ]
  },
  {
   "cell_type": "markdown",
   "metadata": {},
   "source": [
    "#### Examine the baseline mean squared error using a null model.\n",
    "How does this compare to what we achieved with linear regression. Is our model making an actual improvement?"
   ]
  },
  {
   "cell_type": "code",
   "execution_count": null,
   "metadata": {
    "ExecuteTime": {
     "end_time": "2021-12-29T03:59:40.435050Z",
     "start_time": "2021-12-29T03:59:40.428561Z"
    }
   },
   "outputs": [],
   "source": [
    "# Brute force - way to build the null model\n",
    "# create an array the same size as y_test and fill with the mean value of y_test\n",
    "y_mean = np.full_like(y_test, y_train.mean())\n",
    "\n",
    "# compute the MSE for the null model, aka the mean\n",
    "mse_null = mean_squared_error(y_test, y_mean)\n",
    "rmse_null = np.sqrt(mse_null)\n",
    "print(f'Null MSE: {mse_null}')\n",
    "print(f'Null RMSE: {rmse_null}')\n"
   ]
  },
  {
   "cell_type": "markdown",
   "metadata": {},
   "source": [
    "##### Dummy Models in Scikit-learn\n",
    "Luckily `sklearn` provides an alternative approach to building baseline models, which comes in handy, because it's very much like building any other model. The dummy algorithms are located in the `dummy` module or `sklearn.dummy`.\n",
    "\n",
    "Here we'll use a dummy regessor which we bring in using:\n",
    "\n",
    "`from sklearn.dummy import DummyRegressor`"
   ]
  },
  {
   "cell_type": "code",
   "execution_count": null,
   "metadata": {
    "ExecuteTime": {
     "end_time": "2021-12-29T03:59:46.338763Z",
     "start_time": "2021-12-29T03:59:46.318334Z"
    }
   },
   "outputs": [],
   "source": [
    "from sklearn.dummy import DummyRegressor\n",
    "\n",
    "# Follow the same steps as a real model\n",
    "# Instantiate\n",
    "dr = DummyRegressor(strategy='mean')\n",
    "\n",
    "# Fit or \"Train\" the dummy regressor\n",
    "dr.fit(X_train, y_train)\n",
    "\n",
    "# save the \"predictions\"\n",
    "y_pred_dummy = dr.predict(X_test)\n",
    "\n",
    "# Test MSE for dummy\n",
    "mse_dum = mean_squared_error(y_test, y_pred_dummy)\n",
    "\n",
    "# Test RMSE for dummy\n",
    "rmse_dum = np.sqrt(mse_dum)\n",
    "\n",
    "print(f'Dummy RMSE: {rmse_dum}')"
   ]
  },
  {
   "cell_type": "markdown",
   "metadata": {},
   "source": [
    "#### Exercise (~20min)\n",
    "Build a linear regression model for the Las Vegas Trip Advisor data.\n",
    "\n",
    "The data is located here: `path = './data/LasVegasTripAdvisorReviews-Dataset.csv'`\n",
    "\n",
    "Carry out the following steps in the cells below:\n",
    "1. Load the data set using `.read_csv()`\n",
    "2. Verify the data was loaded correctly\n",
    "3. Assign `X` and `y` variables using `Hotel Stars` as your feature and `Score` as your target.\n",
    "4. Split the data into Train and Test data sets. Use `random_state=99`.\n",
    "5. Build a linear regression model. Use the standard steps we have demonstrated in previous lessons and in this notebook. You may refer to previous examples in this notebook for reference.\n",
    "6. Compute the RMSE for the training data and testing data.\n",
    "7. Build a baseline model.\n",
    "8. Compute the RMSE for a baseline model using the mean. Remember: here you want to calculate RMSE for the test set."
   ]
  },
  {
   "cell_type": "markdown",
   "metadata": {},
   "source": [
    "**Load the dataset using `.read_csv()` and the path above. Verify the data loaded properly.**"
   ]
  },
  {
   "cell_type": "code",
   "execution_count": null,
   "metadata": {
    "ExecuteTime": {
     "end_time": "2021-12-29T03:59:53.828760Z",
     "start_time": "2021-12-29T03:59:53.825654Z"
    },
    "scrolled": true
   },
   "outputs": [],
   "source": [
    "# Load the data\n",
    "path = './data/LasVegasTripAdvisorReviews-Dataset.csv'\n",
    "reviews_df = None\n",
    "\n",
    "# check the data was read in properly\n"
   ]
  },
  {
   "cell_type": "markdown",
   "metadata": {},
   "source": [
    "**Do some quick EDA**\n",
    "- Check data types\n",
    "- Check amount of data (**check data types and amount of data in one command**)\n",
    "- Look at summary statistics\n",
    "- Review the column names"
   ]
  },
  {
   "cell_type": "code",
   "execution_count": null,
   "metadata": {
    "ExecuteTime": {
     "end_time": "2020-12-12T07:16:57.985715Z",
     "start_time": "2020-12-12T07:16:57.969638Z"
    },
    "scrolled": true
   },
   "outputs": [],
   "source": [
    "# Quick exploration of the data\n"
   ]
  },
  {
   "cell_type": "code",
   "execution_count": null,
   "metadata": {
    "ExecuteTime": {
     "end_time": "2020-12-12T07:16:58.570942Z",
     "start_time": "2020-12-12T07:16:58.542100Z"
    }
   },
   "outputs": [],
   "source": [
    "# Generate summary statistics\n"
   ]
  },
  {
   "cell_type": "code",
   "execution_count": null,
   "metadata": {
    "ExecuteTime": {
     "end_time": "2020-12-12T07:16:58.892946Z",
     "start_time": "2020-12-12T07:16:58.887644Z"
    },
    "scrolled": true
   },
   "outputs": [],
   "source": [
    "# Look at the column names\n"
   ]
  },
  {
   "cell_type": "markdown",
   "metadata": {},
   "source": [
    "**Create X and y using `Hotel Stars` and `Score` as the feature and target, respectively.**"
   ]
  },
  {
   "cell_type": "code",
   "execution_count": null,
   "metadata": {
    "ExecuteTime": {
     "end_time": "2020-12-12T07:16:59.477050Z",
     "start_time": "2020-12-12T07:16:59.472720Z"
    }
   },
   "outputs": [],
   "source": [
    "# Assign X and y - \n",
    "# Note: Pay attention to the dimensions (aka shape) of your data.\n",
    "feature_cols = None\n",
    "\n",
    "X = None\n",
    "y = None"
   ]
  },
  {
   "cell_type": "markdown",
   "metadata": {},
   "source": [
    "**Check the shape of the features**"
   ]
  },
  {
   "cell_type": "code",
   "execution_count": null,
   "metadata": {
    "ExecuteTime": {
     "end_time": "2020-12-12T07:16:59.822807Z",
     "start_time": "2020-12-12T07:16:59.798103Z"
    }
   },
   "outputs": [],
   "source": [
    "# Check the shape of the feature matrix\n"
   ]
  },
  {
   "cell_type": "markdown",
   "metadata": {},
   "source": [
    "**Split the data into train and test data sets. Use `random_state=99`**"
   ]
  },
  {
   "cell_type": "code",
   "execution_count": null,
   "metadata": {
    "ExecuteTime": {
     "end_time": "2020-12-12T07:17:00.454611Z",
     "start_time": "2020-12-12T07:17:00.448928Z"
    }
   },
   "outputs": [],
   "source": [
    "# Split the data into train and test data sets use a random state of 99. Assume the default split.\n",
    "\n"
   ]
  },
  {
   "cell_type": "markdown",
   "metadata": {},
   "source": [
    "**Build a linear regression model and use it to make predictions for training and testing data.**"
   ]
  },
  {
   "cell_type": "code",
   "execution_count": null,
   "metadata": {
    "ExecuteTime": {
     "end_time": "2020-12-12T07:17:01.319091Z",
     "start_time": "2020-12-12T07:17:01.311026Z"
    }
   },
   "outputs": [],
   "source": [
    "# Build a linear regression model - follow the sklearn recipe\n",
    "\n"
   ]
  },
  {
   "cell_type": "markdown",
   "metadata": {},
   "source": [
    "**Evaluate the train and test RMSE and print your results**"
   ]
  },
  {
   "cell_type": "code",
   "execution_count": null,
   "metadata": {
    "ExecuteTime": {
     "end_time": "2020-12-12T07:17:03.297940Z",
     "start_time": "2020-12-12T07:17:03.284385Z"
    }
   },
   "outputs": [],
   "source": [
    "# Evaluate the train and test RMSE\n",
    "\n",
    "# Get MSE for train and test\n",
    "mse_train = None\n",
    "mse_test = None\n",
    "\n",
    "# Get RMSE for train and test\n",
    "rmse_train = None\n",
    "rmse_test = None\n",
    "\n",
    "print(f'Train RMSE: {rmse_train}')\n",
    "print(f'Test RMSE: {rmse_test}')"
   ]
  },
  {
   "cell_type": "markdown",
   "metadata": {},
   "source": [
    "**Build a baseline model, make predictions, and compute the RMSE for a baseline model using the mean. Print your result.** "
   ]
  },
  {
   "cell_type": "code",
   "execution_count": null,
   "metadata": {
    "ExecuteTime": {
     "end_time": "2020-12-12T07:17:04.904325Z",
     "start_time": "2020-12-12T07:17:04.899057Z"
    }
   },
   "outputs": [],
   "source": [
    "# Build a baselne model using the mean as the baseline model\n",
    "\n",
    "# Follow the same steps as a real model\n",
    "# Instantiate\n",
    "dummy_reg = None\n",
    "\n",
    "# Fit or \"Train\" the dummy regressor\n",
    "dummy_reg.fit(X_train, y_train)\n",
    "\n",
    "\n",
    "\n",
    "\n",
    "\n",
    "print(f'Dummy RMSE: {rmse_dum}')\n",
    "\n"
   ]
  },
  {
   "cell_type": "markdown",
   "metadata": {},
   "source": [
    "**Compare the linear regression to the baseline model**"
   ]
  },
  {
   "cell_type": "markdown",
   "metadata": {},
   "source": [
    "**Answer here:** Our model is slightly better than the baseline."
   ]
  },
  {
   "cell_type": "markdown",
   "metadata": {},
   "source": [
    "<a id=\"k-folds-cross-validation\"></a>\n",
    "## K-Folds Cross-Validation\n",
    "---"
   ]
  },
  {
   "cell_type": "markdown",
   "metadata": {
    "collapsed": true
   },
   "source": [
    "Train/test split provides us with helpful tool, but it's a shame that we are tossing out a large chunk of our data for testing purposes.\n",
    "\n",
    "**How can we use the maximum amount of our data points while still ensuring model integrity?**\n",
    "\n",
    "1. Split our data into a number of different pieces (folds).\n",
    "2. Train using `k-1` folds for training and a different fold for testing.\n",
    "3. Average our model against EACH of those iterations.\n",
    "4. Choose our model and TEST it against the final fold.\n",
    "5. Average all test accuracies to get the estimated out-of-sample accuracy.\n",
    "\n",
    "Although this may sound complicated, we are just training the model on k separate train-test-splits, then taking the average of the resulting test accuracies!"
   ]
  },
  {
   "cell_type": "markdown",
   "metadata": {},
   "source": [
    "![](./assets/cross_validation_diagram.png)"
   ]
  },
  {
   "cell_type": "markdown",
   "metadata": {},
   "source": [
    "<a id=\"leave-one-out-cross-validation\"></a>\n",
    "### Leave-One-Out Cross-Validation"
   ]
  },
  {
   "cell_type": "markdown",
   "metadata": {
    "collapsed": true
   },
   "source": [
    "A special case of k-fold cross-validation is leave-one-out cross-validation. Rather than taking 5–10 folds, we take a fold of size `n-1` and leave one observation to test.\n",
    "\n",
    "Typically, 5–10 fold cross-validation is recommended."
   ]
  },
  {
   "cell_type": "markdown",
   "metadata": {},
   "source": [
    "<a id=\"intro-to-cross-validation-with-the-boston-data\"></a>\n",
    "### Intro to Cross-Validation With the Boston Data"
   ]
  },
  {
   "cell_type": "markdown",
   "metadata": {},
   "source": [
    "#### Create a cross-valiation with five folds.\n",
    "`KFold()` provides train/test indices to split data in train/test sets. It splits the dataset into k consecutive folds (without shuffling by default). Each fold is then used once as a validation while the k - 1 remaining folds form the training set."
   ]
  },
  {
   "cell_type": "code",
   "execution_count": null,
   "metadata": {
    "ExecuteTime": {
     "end_time": "2021-12-29T04:00:12.164936Z",
     "start_time": "2021-12-29T04:00:12.160961Z"
    }
   },
   "outputs": [],
   "source": [
    "# from sklearn.model_selection import KFold\n",
    "# Build a K-fold with 5 folds\n",
    "kf = KFold(n_splits=5, shuffle=True, random_state=5432)"
   ]
  },
  {
   "cell_type": "markdown",
   "metadata": {
    "ExecuteTime": {
     "end_time": "2020-10-20T03:23:49.110295Z",
     "start_time": "2020-10-20T03:23:49.060131Z"
    }
   },
   "source": [
    "**Let's rebuild a model for the boston housing data using `AGE` only.**"
   ]
  },
  {
   "cell_type": "code",
   "execution_count": null,
   "metadata": {
    "ExecuteTime": {
     "end_time": "2021-12-29T04:00:44.192712Z",
     "start_time": "2021-12-29T04:00:44.171791Z"
    }
   },
   "outputs": [],
   "source": [
    "# Lets assign the Boston housing variables again, since we used X & y for other things since then.\n",
    "X = boston_df[['AGE']]\n",
    "y = boston_df['MEDV']"
   ]
  },
  {
   "cell_type": "code",
   "execution_count": null,
   "metadata": {
    "ExecuteTime": {
     "end_time": "2021-12-29T04:02:09.737895Z",
     "start_time": "2021-12-29T04:02:09.712329Z"
    }
   },
   "outputs": [],
   "source": [
    "# sklearn uses neg_mean_squared_error so we have to take the negative.\n",
    "\n",
    "mse_xval = -cross_val_score(lr, X, y, cv=kf, scoring='neg_mean_squared_error')\n",
    "mse_xval"
   ]
  },
  {
   "cell_type": "code",
   "execution_count": null,
   "metadata": {
    "ExecuteTime": {
     "end_time": "2021-12-29T04:02:36.657527Z",
     "start_time": "2021-12-29T04:02:36.632550Z"
    }
   },
   "outputs": [],
   "source": [
    "# compute the scores - note we're using the linear regression object we instantiated earlier\n",
    "mse_cross = np.mean(mse_xval)\n",
    "rmse_cross = np.sqrt(mse_cross)\n",
    "r_squared_cross = np.mean(cross_val_score(lr, X, y, cv=kf))\n",
    "\n",
    "print(f'Cross Validated MSE: {mse_cross}')\n",
    "print(f'Cross Validated RMSE: {rmse_cross}')\n",
    "print(f'Cross Validated R-squared: {r_squared_cross}')"
   ]
  },
  {
   "cell_type": "markdown",
   "metadata": {},
   "source": [
    "**Repeat just using `AGE` and `RM` as the feature.**"
   ]
  },
  {
   "cell_type": "code",
   "execution_count": null,
   "metadata": {
    "ExecuteTime": {
     "end_time": "2021-12-29T04:02:55.764014Z",
     "start_time": "2021-12-29T04:02:55.716684Z"
    }
   },
   "outputs": [],
   "source": [
    "# Lets assign the Boston housing variables again, since we used X & y for other things since then.\n",
    "X = boston_df[['AGE', 'RM']]\n",
    "y = boston_df['MEDV']\n",
    "\n",
    "# compute the scores - note we're using the linear regression object we instantiated earlier\n",
    "xval_score = -cross_val_score(lr, X, y, cv=kf, scoring='neg_mean_squared_error')\n",
    "mse_cross = np.mean(xval_score)\n",
    "rmse_cross = np.sqrt(mse_cross)\n",
    "r_squared_cross = np.mean(cross_val_score(lr, X, y, cv=kf))\n",
    "\n",
    "print(f'Cross Validated MSE: {mse_cross}')\n",
    "print(f'Cross Validated RMSE: {rmse_cross}')\n",
    "print(f'Cross Validated R-squared: {r_squared_cross}')\n"
   ]
  },
  {
   "cell_type": "markdown",
   "metadata": {},
   "source": [
    "**Let's look under the hood for a minute**"
   ]
  },
  {
   "cell_type": "code",
   "execution_count": null,
   "metadata": {
    "ExecuteTime": {
     "end_time": "2021-12-29T04:03:17.679455Z",
     "start_time": "2021-12-29T04:03:17.648346Z"
    }
   },
   "outputs": [],
   "source": [
    "# run this once as is and then swap kf for an integer between 5 & 10\n",
    "xval_score = -cross_val_score(lr, X, y, cv=kf, scoring='neg_mean_squared_error')\n",
    "xval_score"
   ]
  },
  {
   "cell_type": "markdown",
   "metadata": {},
   "source": [
    "Notice the range of values above. See how they differ when you substitue an integer for our KFold object, `kf`. Ideally we want our errors to be narrowly distributed. While the average error might be relatively low, it's better if it's low and the range of component errors doesn't vary widely."
   ]
  },
  {
   "cell_type": "markdown",
   "metadata": {},
   "source": [
    "**Take a look at the results for each fold**"
   ]
  },
  {
   "cell_type": "code",
   "execution_count": null,
   "metadata": {
    "ExecuteTime": {
     "end_time": "2021-12-29T04:16:46.101575Z",
     "start_time": "2021-12-29T04:16:46.055417Z"
    }
   },
   "outputs": [],
   "source": [
    "mse_values = []\n",
    "scores = []\n",
    "n = 0\n",
    "\n",
    "print(\"~~~~ CROSS VALIDATION each fold ~~~~\")\n",
    "for train_index, test_index in kf.split(X, y):\n",
    "    lr = LinearRegression().fit(X.iloc[train_index], y.iloc[train_index])\n",
    "    \n",
    "    mse = mean_squared_error(y.iloc[test_index], lr.predict(X.iloc[test_index]))\n",
    "    mse_values.append(mse)\n",
    "    scores.append(lr.score(X, y))\n",
    "    \n",
    "    n += 1\n",
    "    \n",
    "    print(f'Model {n}')\n",
    "    print(f'MSE: {mse_values[n-1]}')\n",
    "    print(f'R2: {scores[n-1]}\\n')\n",
    "\n",
    "\n",
    "print(\"~~~~ SUMMARY OF CROSS VALIDATION ~~~~\")\n",
    "print(f'Mean of MSE for all folds: {np.mean(mse_values)}')\n",
    "print(f'Mean of R2 for all folds: {np.mean(scores)}')"
   ]
  },
  {
   "cell_type": "markdown",
   "metadata": {},
   "source": [
    "**Now that we've found the best model using `AGE` and `RM` we can fit our model using the entire dataset.**\n",
    "\n",
    "Then we would take that final model and put it into production."
   ]
  },
  {
   "cell_type": "code",
   "execution_count": null,
   "metadata": {
    "ExecuteTime": {
     "end_time": "2021-12-29T04:19:55.737756Z",
     "start_time": "2021-12-29T04:19:55.726713Z"
    }
   },
   "outputs": [],
   "source": [
    "X = boston_df[['AGE', 'RM']]\n",
    "y = boston_df['MEDV']\n",
    "\n",
    "lr = LinearRegression()\n",
    "lr.fit(X, y)"
   ]
  },
  {
   "cell_type": "code",
   "execution_count": null,
   "metadata": {
    "ExecuteTime": {
     "end_time": "2021-12-29T04:19:57.340797Z",
     "start_time": "2021-12-29T04:19:57.317090Z"
    }
   },
   "outputs": [],
   "source": [
    "y_pred = lr.predict(X)\n",
    "\n",
    "y_pred_series = pd.Series(y_pred[:10])"
   ]
  },
  {
   "cell_type": "code",
   "execution_count": null,
   "metadata": {
    "ExecuteTime": {
     "end_time": "2021-12-29T04:19:58.980049Z",
     "start_time": "2021-12-29T04:19:58.965409Z"
    },
    "scrolled": true
   },
   "outputs": [],
   "source": [
    "y_df = pd.concat([y[:10],y_pred_series], axis=1)\n",
    "y_df.columns = ['MEDV', 'y_pred']\n",
    "y_df"
   ]
  },
  {
   "cell_type": "markdown",
   "metadata": {},
   "source": [
    "While the cross-validated approach here generated more overall error, which of the two approaches would predict new data more accurately — the single model or the cross-validated, averaged one? Why?\n",
    "\n",
    "\n",
    "\n",
    "**Answer**: \n",
    "\n",
    "...."
   ]
  },
  {
   "cell_type": "markdown",
   "metadata": {},
   "source": [
    "###### Exercise\n",
    "Use cross validation for the car data set.\n",
    "\n",
    "For this exercise you'll do the following:\n",
    "1. Load the `mtcars.csv` data set. The data is located here: `path = './data/mtcars.csv'`\n",
    "2. Examine the shape of the data and why doing a standard train-test split would be a problem.\n",
    "3. Set up the `X` and `y` using `vs` and `cyl` as features and `mpg` as the target.\n",
    "4. Instantiate a new linear regressor and a 5-fold cross validation on the data. Be sure to shuffle the data and use `random_state=1234`.\n",
    "5. Calculate the cross validated MSE, RMSE, and R-squared. Print your results.\n",
    "6. Repeat steps 2-5 except use `disp` and `qsec` for features. Keep `mpg` as the target.\n",
    "7. Compare the metrics and determine which model will perform better.\n",
    "8. Once you have determined your \"best\" model, apply it to the full dataset and make predictions.\n",
    "9. Build a dataframe to display the first 5 predictions alongside the original data (i.e. the original `y`).\n"
   ]
  },
  {
   "cell_type": "markdown",
   "metadata": {},
   "source": [
    "**Load the `mtcars.csv` data set and verify it loaded properly.**"
   ]
  },
  {
   "cell_type": "code",
   "execution_count": null,
   "metadata": {
    "ExecuteTime": {
     "end_time": "2020-12-12T07:19:57.241257Z",
     "start_time": "2020-12-12T07:19:57.224964Z"
    },
    "scrolled": true
   },
   "outputs": [],
   "source": [
    "# Load the data\n",
    "path = './data/mtcars.csv'\n",
    "mtcars_df = None"
   ]
  },
  {
   "cell_type": "markdown",
   "metadata": {},
   "source": [
    "**Examine the shape of the data and why doing a standard train-test split would be a problem.**"
   ]
  },
  {
   "cell_type": "code",
   "execution_count": null,
   "metadata": {
    "ExecuteTime": {
     "end_time": "2020-12-12T07:20:56.904580Z",
     "start_time": "2020-12-12T07:20:56.901176Z"
    }
   },
   "outputs": [],
   "source": [
    "# Examine the shape\n",
    "shape = None\n",
    "print(f'shape: {shape}')"
   ]
  },
  {
   "cell_type": "markdown",
   "metadata": {},
   "source": [
    "**Answer**: The dataset is very small and a 75/25 split would use only 24 observations to train the model. That's a very small amount of data. It's better to use k-fold cross validation since it will use all the data to give us more robust results."
   ]
  },
  {
   "cell_type": "markdown",
   "metadata": {},
   "source": [
    "**Set up the `X` and `y` using `vs` and `cyl` as features and `mpg` as the target.**"
   ]
  },
  {
   "cell_type": "code",
   "execution_count": null,
   "metadata": {
    "ExecuteTime": {
     "end_time": "2020-12-12T07:19:58.385672Z",
     "start_time": "2020-12-12T07:19:58.381259Z"
    }
   },
   "outputs": [],
   "source": [
    "# Assign the X and y variables\n",
    "feature_cols = None\n",
    "X = None\n",
    "y = None"
   ]
  },
  {
   "cell_type": "markdown",
   "metadata": {},
   "source": [
    "**Instantiate a new linear regressor and a 5-fold cross validation on the data. Be sure to shuffle the data and use `random_state=1234`.**"
   ]
  },
  {
   "cell_type": "code",
   "execution_count": null,
   "metadata": {
    "ExecuteTime": {
     "end_time": "2020-12-12T07:19:58.784679Z",
     "start_time": "2020-12-12T07:19:58.780644Z"
    }
   },
   "outputs": [],
   "source": [
    "# Set up a linear regression and 5-fold cross validation\n",
    "\n",
    "# Instantiate the linear regression object\n",
    "lr_car = None\n",
    "\n",
    "# Set up the 5-folds\n",
    "kf_car = None"
   ]
  },
  {
   "cell_type": "markdown",
   "metadata": {},
   "source": [
    "**Calculate the cross validated MSE, RMSE, and R-squared. Print your results.**"
   ]
  },
  {
   "cell_type": "code",
   "execution_count": null,
   "metadata": {
    "ExecuteTime": {
     "end_time": "2020-12-12T07:19:59.255345Z",
     "start_time": "2020-12-12T07:19:59.196411Z"
    }
   },
   "outputs": [],
   "source": [
    "# Calculate the cross validated MSE, RMSE, and R-squared. Print your results.\n",
    "val_score = None\n",
    "mse_cross = None\n",
    "rmse_cross = None\n",
    "r_squared_cross = None\n",
    "\n",
    "print(f'Cross Validated MSE: {mse_cross}')\n",
    "print(f'Cross Validated RMSE: {rmse_cross}')\n",
    "print(f'Cross Validated R-squared: {r_squared_cross}')\n"
   ]
  },
  {
   "cell_type": "markdown",
   "metadata": {},
   "source": [
    "**Repeat steps 2-5 except use `disp` and `qsec` for features. Keep `mpg` as the target.**"
   ]
  },
  {
   "cell_type": "code",
   "execution_count": null,
   "metadata": {
    "ExecuteTime": {
     "end_time": "2020-12-12T07:19:59.728228Z",
     "start_time": "2020-12-12T07:19:59.680926Z"
    }
   },
   "outputs": [],
   "source": [
    "# Repeat steps 2-5 except use disp and qsec for features. Keep mpg as the target.\n",
    "\n",
    "# set up X and y using disp and qsec for features and mpg for the target.\n",
    "feature_cols = None\n",
    "X = None\n",
    "y = None\n",
    "\n",
    "# Note we don't have to instantiate the linear regression again, \n",
    "# we can use the one we already have.\n",
    "\n",
    "# set up a new KFold with the new data, us a new variable\n",
    "kf_car_2 = None\n",
    "\n",
    "## Calculate MSE, RMSE and R-squared for the new data.\n",
    "xval_score2 = None\n",
    "mse_cross = None\n",
    "rmse_cross = None\n",
    "r_squared_cross = None\n",
    "\n",
    "print(f'Cross Validated MSE: {mse_cross}')\n",
    "print(f'Cross Validated RMSE: {rmse_cross}')\n",
    "print(f'Cross Validated R-squared: {r_squared_cross}')\n",
    "\n"
   ]
  },
  {
   "cell_type": "markdown",
   "metadata": {},
   "source": [
    "**Compare the metrics and determine which model will perform better.**"
   ]
  },
  {
   "cell_type": "markdown",
   "metadata": {},
   "source": [
    "**Answer here- briefly explain why.**\n"
   ]
  },
  {
   "cell_type": "markdown",
   "metadata": {},
   "source": [
    "**Once you have determined your \"best\" model, apply it to the full dataset and make predictions.**"
   ]
  },
  {
   "cell_type": "code",
   "execution_count": null,
   "metadata": {
    "ExecuteTime": {
     "end_time": "2020-12-12T07:32:33.243275Z",
     "start_time": "2020-12-12T07:32:32.844691Z"
    }
   },
   "outputs": [],
   "source": [
    "# Build a model using the parameters of your best model and fit it to the entire data set and make predictions.\n",
    "\n",
    "feature_cols = None\n",
    "X = None\n",
    "y = None\n",
    "\n",
    "# Build a Linear Regression Model (follow the sklearn recipe)\n",
    "lr = None\n",
    "\n",
    "\n",
    "\n",
    "y_pred = None\n",
    "\n",
    "# Create a Pandas series from the y_pred\n",
    "y_pred_series = None\n",
    "\n",
    "# display the first 5 rows of the series\n",
    "\n"
   ]
  },
  {
   "cell_type": "markdown",
   "metadata": {},
   "source": [
    "**Build a dataframe to display the first 5 predictions alongside the original data (i.e. the original `y`).**"
   ]
  },
  {
   "cell_type": "code",
   "execution_count": null,
   "metadata": {
    "ExecuteTime": {
     "end_time": "2020-12-12T07:20:01.364508Z",
     "start_time": "2020-12-12T07:20:01.349752Z"
    }
   },
   "outputs": [],
   "source": [
    "# Build a dataframe of the original y and the predicted y and display the first 5 rows.\n",
    "y_df = None\n",
    "\n",
    "# Name the columns of the data frame 'MEDV' and 'y_pred'\n",
    "\n",
    "# display the data frame\n",
    "y_df"
   ]
  },
  {
   "cell_type": "markdown",
   "metadata": {},
   "source": [
    "<a id=\"three-way-data-split\"></a>\n",
    "## Three-Way Data Split\n",
    "---\n",
    "\n",
    "The most common workflow is actually a combination of train/test split and cross-validation. We take a train/test split on our data right away and try not spend a lot of time using the testing data set. Instead, we take our training data and tune our models using cross-validation. When we think we are done, we do one last test on the testing data to make sure we haven't accidently overfit to our training data.\n",
    "\n",
    "**If you tune hyperparameters via cross-validation, you should never use cross-validation on the same dataset to estimate OOS accuracy!** Using cross-validation in this way, the entire dataset was used to tune hyperparameters. So, this invalidates our condition above -- where we assumed the test set is a pretend \"out-of-sample\" dataset that was not used to train our model! So, we would expect the accuracy on this test set to be artificially inflated as compared to actual \"out-of-sample\" data.\n",
    "\n",
    "Even with good evaluation procedures, it is incredible easy to overfit our models by including features that will not be available during production or leak information about our testing data in other ways."
   ]
  },
  {
   "cell_type": "markdown",
   "metadata": {},
   "source": [
    "![](./assets/Train-Test-Split-CV.png)"
   ]
  },
  {
   "cell_type": "markdown",
   "metadata": {
    "collapsed": true
   },
   "source": [
    "- If model selection and true error estimates are to be computed simultaneously, three disjointed data sets are best.\n",
    "    - **Training set**: A set of examples used for learning – what parameters of the classifier?\n",
    "    - **Validation set**: A set of examples used to tune the parameters of the classifier.\n",
    "    - **Testing set**: A set of examples used ONLY to assess the performance of the fully trained classifier.\n",
    "- Validation and testing must be separate data sets. Once you have the final model set, you cannot do any additional tuning after testing."
   ]
  },
  {
   "cell_type": "markdown",
   "metadata": {
    "collapsed": true
   },
   "source": [
    "1. Divide data into training, validation, and testing sets.\n",
    "2. Select architecture (model type) and training parameters (k).\n",
    "3. Train the model using the training set.\n",
    "4. Evaluate the model using the training set.\n",
    "5. Repeat 2–4 times, selecting different architectures (models) and tuning parameters.\n",
    "6. Select the best model.\n",
    "7. Assess the model with the final testing set."
   ]
  },
  {
   "cell_type": "markdown",
   "metadata": {
    "collapsed": true
   },
   "source": [
    "<a id=\"additional-resources\"></a>\n",
    "<a id=\"additional-resources\"></a>\n",
    "### Additional Resources\n",
    "- [Bias Variance](http://scott.fortmann-roe.com/docs/BiasVariance.html)\n",
    "- University of Washington [slides](https://courses.cs.washington.edu/courses/cse546/12wi/slides/)"
   ]
  },
  {
   "cell_type": "markdown",
   "metadata": {
    "collapsed": true
   },
   "source": [
    "<a id=\"summary\"></a>\n",
    "### Summary\n",
    "\n",
    "In this lab, we compared four methods of estimating model accuracy on out-of-sample data. Throughout your regular data science work, you will likely use all four at some point:\n",
    "\n",
    "1. **Train on the entire dataset**\n",
    "2. **Train-test-split**\n",
    "3. **Cross-validation**\n",
    "4. **Three-way split**"
   ]
  }
 ],
 "metadata": {
  "anaconda-cloud": {},
  "kernelspec": {
   "display_name": "Python 3",
   "language": "python",
   "name": "python3"
  },
  "language_info": {
   "codemirror_mode": {
    "name": "ipython",
    "version": 3
   },
   "file_extension": ".py",
   "mimetype": "text/x-python",
   "name": "python",
   "nbconvert_exporter": "python",
   "pygments_lexer": "ipython3",
   "version": "3.7.3"
  },
  "toc": {
   "base_numbering": 1,
   "nav_menu": {},
   "number_sections": false,
   "sideBar": true,
   "skip_h1_title": false,
   "title_cell": "Table of Contents",
   "title_sidebar": "Contents",
   "toc_cell": false,
   "toc_position": {},
   "toc_section_display": true,
   "toc_window_display": false
  }
 },
 "nbformat": 4,
 "nbformat_minor": 2
}
